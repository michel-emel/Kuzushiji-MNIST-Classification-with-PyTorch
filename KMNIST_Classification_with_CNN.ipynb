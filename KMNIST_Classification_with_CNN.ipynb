{
 "cells": [
  {
   "cell_type": "markdown",
   "metadata": {
    "id": "rW73uoCf46LU"
   },
   "source": [
    "\n",
    "**PyTorch**: is an open-source machine learning library developed by Facebook. It provides a flexible and dynamic computational graph, allowing developers to build and train neural networks efficiently."
   ]
  },
  {
   "cell_type": "markdown",
   "metadata": {
    "id": "Vdkw7jNAje3-"
   },
   "source": [
    "\n",
    "<p align=\"center\"><strong> Dataset description and task description</strong></p>\n",
    "\n",
    "Our main goal is to classifier accurately the 10 charaters from the dataset KMNIST( Kuzushiji-MNIST dataset) what is the replacement for the standard MINST digits recognition dataset. It's consist of 70.000 images with 60.000 for training and 10.000 for testing."
   ]
  },
  {
   "cell_type": "markdown",
   "metadata": {
    "id": "YMlj7eHIk_KB"
   },
   "source": [
    "### **Implementing a Convolutional Neural Network (CNN) with PyTorch**"
   ]
  },
  {
   "cell_type": "markdown",
   "metadata": {
    "id": "Aj2sdpAQ6BA1"
   },
   "source": [
    "1. The following lines guide us to install some requirement libraries or module: **PyTorch**, **OpenCV**, and **scikit-learn**."
   ]
  },
  {
   "cell_type": "code",
   "execution_count": null,
   "metadata": {
    "id": "j-w4EAg46VA-"
   },
   "outputs": [],
   "source": [
    "#uncomment if Necessary\n",
    "\n",
    "# !pip install torch torchvision\n",
    "# !pip install opencv-contrib-python\n",
    "# !pip install scikit-learn"
   ]
  },
  {
   "cell_type": "markdown",
   "metadata": {
    "id": "6xNaHFQ_8Opm"
   },
   "source": [
    "\n",
    "\n",
    "2. Importing necessary modules and\n",
    "classes from PyTorch's neural network module\n",
    "\n"
   ]
  },
  {
   "cell_type": "code",
   "execution_count": null,
   "metadata": {
    "id": "BWGr4Rg4XNSt"
   },
   "outputs": [],
   "source": [
    "# import the necessary packages\n",
    "\n",
    "from torch.nn import Module  # Base class for all neural network modules\n",
    "from torch.nn import Conv2d  # 2D convolutional layer\n",
    "from torch.nn import Linear  # Fully connected layer\n",
    "from torch.nn import MaxPool2d # 2D max pooling layer\n",
    "from torch.nn import ReLU     # Rectified Linear Unit activation function\n",
    "from torch.nn import LogSoftmax # Logarithmic Softmax activation function\n",
    "from torch import flatten # Flatten function to reshape input tensors"
   ]
  },
  {
   "cell_type": "markdown",
   "metadata": {
    "id": "akOeVTlz9X8V"
   },
   "source": [
    "3. Implementation of  **LeNet model architecture** for image classification."
   ]
  },
  {
   "cell_type": "markdown",
   "metadata": {
    "id": "iEvuxiZAH5rs"
   },
   "source": [
    "**Arguments**:\n",
    "\n",
    "*   numChannels: Number of input channels\n",
    "*   classes: Number of output classes\n",
    "\n",
    "**Architecture**:\n",
    "\n",
    "\n",
    "\n",
    "*   Convolutional layer (conv1) with ReLU activation and max pooling.\n",
    "*   Convolutional layer (conv2) with ReLU activation and max pooling.\n",
    "\n",
    "\n",
    "\n",
    "*   Fully connected layer (fc1) with ReLU activation\n",
    "*   Fully connected layer (fc2) with LogSoftmax activation.\n",
    "\n",
    "**Parameters**:\n",
    "\n",
    "\n",
    "*   in_channels: Input channels for the first convolutional layer.\n",
    "*   out_channels: Output channels for convolutional layers.\n",
    "\n",
    "\n",
    "\n",
    "*   kernel_size: Size of the convolutional kernel.\n",
    "*   stride: Stride for max pooling layers.\n",
    "\n",
    "*   in_features: Input features for fully connected layers.\n",
    "*   out_features: Output features for fully connected layers.\n",
    "\n",
    "\n",
    "For the **forward method** we have:\n",
    "\n",
    "**Arguments**:\n",
    "\n",
    "\n",
    "\n",
    "*   x: Input tensor.\n",
    "\n",
    "**Returns:**\n",
    "\n",
    "*   Output predictions after passing through the network."
   ]
  },
  {
   "cell_type": "code",
   "execution_count": null,
   "metadata": {
    "id": "sW9rIZZ0XQZ9"
   },
   "outputs": [],
   "source": [
    "class LeNet(Module):\n",
    "\n",
    "  def __init__(self, numChannels, classes):\n",
    "    #call the parent constructor\n",
    "    super(LeNet, self).__init__()\n",
    "    # initialize first set of CONV => RELU => POOL layers\n",
    "    self.conv1 = Conv2d(in_channels=numChannels, out_channels=20,\n",
    "        kernel_size=(5, 5))\n",
    "    self.relu1 = ReLU()\n",
    "    self.maxpool1 = MaxPool2d(kernel_size=(2, 2), stride=(2, 2))\n",
    "    # initialize second set of CONV => RELU => POOL layers\n",
    "    self.conv2 = Conv2d(in_channels=20, out_channels=50,\n",
    "        kernel_size=(5, 5))\n",
    "    self.relu2 = ReLU()\n",
    "    self.maxpool2 = MaxPool2d(kernel_size=(2, 2), stride=(2, 2))\n",
    "    # initialize first (and only) set of FC => RELU layers\n",
    "    self.fc1 = Linear(in_features=800, out_features=500)\n",
    "    self.relu3 = ReLU()\n",
    "    # initialize our softmax classifier\n",
    "    self.fc2 = Linear(in_features=500, out_features=classes)\n",
    "    self.logSoftmax = LogSoftmax(dim=1)\n",
    "\n",
    "  def forward(self, x):\n",
    "      # pass the input through our first set of CONV => RELU =>\n",
    "      # POOL layers\n",
    "      x = self.conv1(x)\n",
    "      x = self.relu1(x)\n",
    "      x = self.maxpool1(x)\n",
    "      # pass the output from the previous layer through the second\n",
    "      # set of CONV => RELU => POOL layers\n",
    "      x = self.conv2(x)\n",
    "      x = self.relu2(x)\n",
    "      x = self.maxpool2(x)\n",
    "      # flatten the output from the previous layer and pass it\n",
    "      # through our only set of FC => RELU layers\n",
    "      x = flatten(x, 1)\n",
    "      x = self.fc1(x)\n",
    "      x = self.relu3(x)\n",
    "      # pass the output to our softmax classifier to get our output\n",
    "      # predictions\n",
    "      x = self.fc2(x)\n",
    "      output = self.logSoftmax(x)\n",
    "      # return the output predictions\n",
    "      return output"
   ]
  },
  {
   "cell_type": "markdown",
   "metadata": {
    "id": "vrH8gKJklxaG"
   },
   "source": [
    "### **Creating and Training our CNN training script with PyTorch**"
   ]
  },
  {
   "cell_type": "markdown",
   "metadata": {
    "id": "ocZ16byiQ2zO"
   },
   "source": [
    "1. Importing libraries and modules that will be used for tasks such as machine learning, data processing, and visualization."
   ]
  },
  {
   "cell_type": "markdown",
   "metadata": {
    "id": "qUVuSPUsRXbV"
   },
   "source": [
    "This block imports various Python packages and modules:\n",
    "\n",
    "1. **classification_report**: Importing a function from scikit-learn for generating classification reports.\n",
    "\n",
    "2. **random_split**: Importing a function from PyTorch for splitting datasets randomly.\n",
    "\n",
    "3. **DataLoader**: Importing a class from PyTorch for creating data loaders.\n",
    "\n",
    "4. **ToTensor**: Importing a transformation from torchvision to convert images to PyTorch tensors.\n",
    "\n",
    "5. **KMNIST**: Importing the KMNIST dataset from torchvision.\n",
    "\n",
    "6. **Adam**: Importing the Adam optimizer from PyTorch.\n",
    "\n",
    "7. **nn**: Importing the neural network module from PyTorch.\n",
    "\n",
    "8. **torch**: Importing the PyTorch library.\n",
    "9. **time**: Importing the time module.\n"
   ]
  },
  {
   "cell_type": "code",
   "execution_count": null,
   "metadata": {
    "id": "hQACQ_RCZFKR"
   },
   "outputs": [],
   "source": [
    "# set the matplotlib backend so figures can be saved in the background\n",
    "\n",
    "import matplotlib\n",
    "matplotlib.use(\"Agg\")\n",
    "# import the necessary packages\n",
    "\n",
    "# from pyimagesearch.lenet import LeNet\n",
    "from sklearn.metrics import classification_report\n",
    "from torch.utils.data import random_split\n",
    "from torch.utils.data import DataLoader\n",
    "from torchvision.transforms import ToTensor\n",
    "from torchvision.datasets import KMNIST\n",
    "from torch.optim import Adam\n",
    "from torch import nn\n",
    "import matplotlib.pyplot as plt\n",
    "import numpy as np\n",
    "# import argparse\n",
    "import torch\n",
    "import time"
   ]
  },
  {
   "cell_type": "markdown",
   "metadata": {
    "id": "2nOLZbLNT-kZ"
   },
   "source": [
    "2. Training hyperparameters and configurations."
   ]
  },
  {
   "cell_type": "markdown",
   "metadata": {
    "id": "D2Z0ZPvyT4_2"
   },
   "source": [
    "Training hyperparameters:\n",
    "\n",
    "* **INIT_LR**: It represents the initial learning rate for the optimizer, indicating how much the model's parameters should be adjusted during training.\n",
    "\n",
    "* **BATCH_SIZE**: This hyperparameter determines the number of samples processed in each iteration (batch) during training. It affects the efficiency of model training.\n",
    "\n",
    "* **EPOCHS**: It defines the number of times the entire dataset is processed during training. One epoch represents one complete pass through the training data.\n",
    "\n",
    "Define the train and val splits:\n",
    "\n",
    "   **TRAIN_SPLIT** and **VAL_SPLIT**: These variables specify the proportions of the dataset allocated for training and validation, respectively. In this case, 75% of the data is used for training, and the remaining 25% for validation.\n",
    "\n",
    "Set the device we will be using to train the model:\n",
    "\n",
    "**device**: This variable determines the computing device (CPU or GPU) that will be used for training the model. If a GPU is available (torch.cuda.is_available() is True), it uses the GPU; otherwise, it falls back to using the CPU."
   ]
  },
  {
   "cell_type": "code",
   "execution_count": null,
   "metadata": {
    "id": "d_c7ARUjZb59"
   },
   "outputs": [],
   "source": [
    "# define training hyperparameters\n",
    "INIT_LR = 1e-3\n",
    "BATCH_SIZE = 64\n",
    "EPOCHS = 10\n",
    "# define the train and val splits\n",
    "TRAIN_SPLIT = 0.75\n",
    "VAL_SPLIT = 1 - TRAIN_SPLIT\n",
    "# set the device we will be using to train the model\n",
    "device = torch.device(\"cuda\" if torch.cuda.is_available() else \"cpu\")\n"
   ]
  },
  {
   "cell_type": "markdown",
   "metadata": {
    "id": "vWEmRuqJVyb7"
   },
   "source": [
    "3. Loading the KMNIST dataset, preparing it for training and validation, and generating the train/validation split:"
   ]
  },
  {
   "cell_type": "markdown",
   "metadata": {
    "id": "Qx9IPLBpWZhK"
   },
   "source": [
    "* **random_split**: This function from PyTorch is used to randomly split the training dataset into training and validation subsets.\n",
    "trainData: The original training dataset.\n",
    "\n",
    "* **[numTrainSamples, numValSamples]:** A list specifying the number of samples for the training and validation subsets.\n",
    "\n",
    "* **generator=torch.Generator().manual_seed(42):** Setting a seed for the random number generator ensures reproducibility of the split. The seed value here is 42.\n",
    "The resulting datasets (**trainData** and **valData**) will be used for training and validation."
   ]
  },
  {
   "cell_type": "code",
   "execution_count": null,
   "metadata": {
    "colab": {
     "base_uri": "https://localhost:8080/"
    },
    "id": "GmpQliZiZuic",
    "outputId": "b48e998a-6e45-4393-85d7-5017a4b3800f"
   },
   "outputs": [
    {
     "name": "stdout",
     "output_type": "stream",
     "text": [
      "[INFO] loading the KMNIST dataset...\n",
      "Downloading http://codh.rois.ac.jp/kmnist/dataset/kmnist/train-images-idx3-ubyte.gz\n",
      "Downloading http://codh.rois.ac.jp/kmnist/dataset/kmnist/train-images-idx3-ubyte.gz to data/KMNIST/raw/train-images-idx3-ubyte.gz\n"
     ]
    },
    {
     "name": "stderr",
     "output_type": "stream",
     "text": [
      "100%|██████████| 18165135/18165135 [00:06<00:00, 2661135.62it/s]\n"
     ]
    },
    {
     "name": "stdout",
     "output_type": "stream",
     "text": [
      "Extracting data/KMNIST/raw/train-images-idx3-ubyte.gz to data/KMNIST/raw\n",
      "\n",
      "Downloading http://codh.rois.ac.jp/kmnist/dataset/kmnist/train-labels-idx1-ubyte.gz\n",
      "Downloading http://codh.rois.ac.jp/kmnist/dataset/kmnist/train-labels-idx1-ubyte.gz to data/KMNIST/raw/train-labels-idx1-ubyte.gz\n"
     ]
    },
    {
     "name": "stderr",
     "output_type": "stream",
     "text": [
      "100%|██████████| 29497/29497 [00:00<00:00, 378979.53it/s]\n"
     ]
    },
    {
     "name": "stdout",
     "output_type": "stream",
     "text": [
      "Extracting data/KMNIST/raw/train-labels-idx1-ubyte.gz to data/KMNIST/raw\n",
      "\n",
      "Downloading http://codh.rois.ac.jp/kmnist/dataset/kmnist/t10k-images-idx3-ubyte.gz\n",
      "Downloading http://codh.rois.ac.jp/kmnist/dataset/kmnist/t10k-images-idx3-ubyte.gz to data/KMNIST/raw/t10k-images-idx3-ubyte.gz\n"
     ]
    },
    {
     "name": "stderr",
     "output_type": "stream",
     "text": [
      "100%|██████████| 3041136/3041136 [00:01<00:00, 2082406.67it/s]\n"
     ]
    },
    {
     "name": "stdout",
     "output_type": "stream",
     "text": [
      "Extracting data/KMNIST/raw/t10k-images-idx3-ubyte.gz to data/KMNIST/raw\n",
      "\n",
      "Downloading http://codh.rois.ac.jp/kmnist/dataset/kmnist/t10k-labels-idx1-ubyte.gz\n",
      "Downloading http://codh.rois.ac.jp/kmnist/dataset/kmnist/t10k-labels-idx1-ubyte.gz to data/KMNIST/raw/t10k-labels-idx1-ubyte.gz\n"
     ]
    },
    {
     "name": "stderr",
     "output_type": "stream",
     "text": [
      "100%|██████████| 5120/5120 [00:00<00:00, 24320313.11it/s]"
     ]
    },
    {
     "name": "stdout",
     "output_type": "stream",
     "text": [
      "Extracting data/KMNIST/raw/t10k-labels-idx1-ubyte.gz to data/KMNIST/raw\n",
      "\n",
      "[INFO] generating the train/validation split...\n"
     ]
    },
    {
     "name": "stderr",
     "output_type": "stream",
     "text": [
      "\n"
     ]
    }
   ],
   "source": [
    "# load the KMNIST dataset\n",
    "print(\"[INFO] loading the KMNIST dataset...\")\n",
    "trainData = KMNIST(root=\"data\", train=True, download=True,\n",
    "\ttransform=ToTensor())\n",
    "testData = KMNIST(root=\"data\", train=False, download=True,\n",
    "\ttransform=ToTensor())\n",
    "# calculate the train/validation split\n",
    "print(\"[INFO] generating the train/validation split...\")\n",
    "numTrainSamples = int(len(trainData) * TRAIN_SPLIT)\n",
    "numValSamples = int(len(trainData) * VAL_SPLIT)\n",
    "(trainData, valData) = random_split(trainData,\n",
    "\t[numTrainSamples, numValSamples],\n",
    "\tgenerator=torch.Generator().manual_seed(42))"
   ]
  },
  {
   "cell_type": "markdown",
   "metadata": {
    "id": "YQdLlBXCYXpY"
   },
   "source": [
    "4. Initializing data loaders for the training, validation, and test datasets, along with calculating the steps per epoch for the training and validation sets"
   ]
  },
  {
   "cell_type": "markdown",
   "metadata": {
    "id": "0pMsUfw_ZkEy"
   },
   "source": [
    "**DataLoader**: This class from PyTorch is used to create iterators for the datasets, allowing you to iterate through batches during training and evaluation:\n",
    "\n",
    "* **trainDataLoader**: The DataLoader for the training dataset with shuffling enabled (shuffle=True). It randomly shuffles the data to introduce variability in each epoch.\n",
    "* **valDataLoader**: The DataLoader for the validation dataset without shuffling, as shuffling is unnecessary during validation.\n",
    "* **testDataLoader**: The DataLoader for the test dataset without shuffling."
   ]
  },
  {
   "cell_type": "code",
   "execution_count": null,
   "metadata": {
    "id": "J_Dt-T3RaGDq"
   },
   "outputs": [],
   "source": [
    "# initialize the train, validation, and test data loaders\n",
    "trainDataLoader = DataLoader(trainData, shuffle=True,\n",
    "\tbatch_size=BATCH_SIZE)\n",
    "valDataLoader = DataLoader(valData, batch_size=BATCH_SIZE)\n",
    "testDataLoader = DataLoader(testData, batch_size=BATCH_SIZE)\n",
    "# calculate steps per epoch for training and validation set\n",
    "trainSteps = len(trainDataLoader.dataset) // BATCH_SIZE\n",
    "valSteps = len(valDataLoader.dataset) // BATCH_SIZE"
   ]
  },
  {
   "cell_type": "code",
   "execution_count": null,
   "metadata": {
    "colab": {
     "base_uri": "https://localhost:8080/"
    },
    "id": "LaB_T8YnaL_6",
    "outputId": "5c30e60d-e09d-47ad-b7fe-7041f3e39215"
   },
   "outputs": [
    {
     "name": "stdout",
     "output_type": "stream",
     "text": [
      "[INFO] initializing the LeNet model...\n",
      "[INFO] training the network...\n"
     ]
    }
   ],
   "source": [
    "# initialize the LeNet model\n",
    "print(\"[INFO] initializing the LeNet model...\")\n",
    "model = LeNet(\n",
    "\tnumChannels=1,\n",
    "\tclasses=len(trainData.dataset.classes)).to(device)\n",
    "# initialize our optimizer and loss function\n",
    "opt = Adam(model.parameters(), lr=INIT_LR)\n",
    "lossFn = nn.NLLLoss()\n",
    "# initialize a dictionary to store training history\n",
    "H = {\n",
    "\t\"train_loss\": [],\n",
    "\t\"train_acc\": [],\n",
    "\t\"val_loss\": [],\n",
    "\t\"val_acc\": []\n",
    "}\n",
    "# measure how long training is going to take\n",
    "print(\"[INFO] training the network...\")\n",
    "startTime = time.time()"
   ]
  },
  {
   "cell_type": "markdown",
   "metadata": {
    "id": "eSuGFRoXb9Ke"
   },
   "source": [
    "5. Training loop over the specified number of epochs. It includes the forward, backpropagation, optimization, and evaluation on both the training and validation sets:"
   ]
  },
  {
   "cell_type": "markdown",
   "metadata": {
    "id": "OMx0pRurc0MH"
   },
   "source": [
    "* The outer loop iterates over the specified number of epochs (**EPOCHS**).\n",
    "\n",
    "* The model is set to training mode (**model.train()**), and the training loop begins. The inner loop iterates over batches from the training DataLoader.\n",
    "\n",
    "* The feedforward  is performed, and the loss is calculated using the specified loss function (**lossFn**).\n",
    "\n",
    "* **Gradients** are zeroed, and the backward pass is executed to calculate gradients and update the model weights.\n",
    "\n",
    "* Training loss and the number of correct predictions are accumulated.\n",
    "\n",
    "* After the training loop, the model is switched to evaluation mode (**model.eval()**), and the validation loop begins. Similar steps are performed for the validation set, but gradients are not updated during validation.\n",
    "\n",
    "* Average training and validation losses are calculated, along with training and validation accuracy.\n",
    "\n",
    "* Training history (**H**) is updated with the calculated values.\n",
    "\n",
    "* Model training and validation information is printed for each epoch."
   ]
  },
  {
   "cell_type": "code",
   "execution_count": null,
   "metadata": {
    "colab": {
     "base_uri": "https://localhost:8080/"
    },
    "id": "2Ctf-6t3aaoN",
    "outputId": "92f40e1e-1ece-45ed-e407-fae0befb5ff8"
   },
   "outputs": [
    {
     "name": "stdout",
     "output_type": "stream",
     "text": [
      "[INFO] EPOCH: 1/10\n",
      "Train loss: 0.007323, Train accuracy: 0.9975\n",
      "Val loss: 0.081470, Val accuracy: 0.9809\n",
      "\n",
      "[INFO] EPOCH: 2/10\n",
      "Train loss: 0.007323, Train accuracy: 0.9975\n",
      "Val loss: 0.081470, Val accuracy: 0.9809\n",
      "\n",
      "[INFO] EPOCH: 3/10\n",
      "Train loss: 0.007329, Train accuracy: 0.9975\n",
      "Val loss: 0.081470, Val accuracy: 0.9809\n",
      "\n",
      "[INFO] EPOCH: 4/10\n",
      "Train loss: 0.007324, Train accuracy: 0.9975\n",
      "Val loss: 0.081470, Val accuracy: 0.9809\n",
      "\n",
      "[INFO] EPOCH: 5/10\n",
      "Train loss: 0.007325, Train accuracy: 0.9975\n",
      "Val loss: 0.081470, Val accuracy: 0.9809\n",
      "\n",
      "[INFO] EPOCH: 6/10\n",
      "Train loss: 0.007323, Train accuracy: 0.9975\n",
      "Val loss: 0.081470, Val accuracy: 0.9809\n",
      "\n",
      "[INFO] EPOCH: 7/10\n",
      "Train loss: 0.007323, Train accuracy: 0.9975\n",
      "Val loss: 0.081470, Val accuracy: 0.9809\n",
      "\n",
      "[INFO] EPOCH: 8/10\n",
      "Train loss: 0.007323, Train accuracy: 0.9975\n",
      "Val loss: 0.081470, Val accuracy: 0.9809\n",
      "\n",
      "[INFO] EPOCH: 9/10\n",
      "Train loss: 0.007323, Train accuracy: 0.9975\n",
      "Val loss: 0.081470, Val accuracy: 0.9809\n",
      "\n",
      "[INFO] EPOCH: 10/10\n",
      "Train loss: 0.007323, Train accuracy: 0.9975\n",
      "Val loss: 0.081470, Val accuracy: 0.9809\n",
      "\n"
     ]
    }
   ],
   "source": [
    "# loop over our epochs\n",
    "for e in range(0, EPOCHS):\n",
    "\t# set the model in training mode\n",
    "\tmodel.train()\n",
    "\t# initialize the total training and validation loss\n",
    "\ttotalTrainLoss = 0\n",
    "\ttotalValLoss = 0\n",
    "\t# initialize the number of correct predictions in the training\n",
    "\t# and validation step\n",
    "\ttrainCorrect = 0\n",
    "\tvalCorrect = 0\n",
    "\t# loop over the training set\n",
    "\tfor (x, y) in trainDataLoader:\n",
    "\t\t# send the input to the device\n",
    "\t\t(x, y) = (x.to(device), y.to(device))\n",
    "\t\t# perform a forward pass and calculate the training loss\n",
    "\t\tpred = model(x)\n",
    "\t\tloss = lossFn(pred, y)\n",
    "\t\t# zero out the gradients, perform the backpropagation step,\n",
    "\t\t# and update the weights\n",
    "\t\topt.zero_grad()\n",
    "\t\tloss.backward()\n",
    "\t\topt.step()\n",
    "\t\t# add the loss to the total training loss so far and\n",
    "\t\t# calculate the number of correct predictions\n",
    "\t\ttotalTrainLoss += loss\n",
    "\t\ttrainCorrect += (pred.argmax(1) == y).type(\n",
    "\t\t\ttorch.float).sum().item()\n",
    "   # switch off autograd for evaluation\n",
    "\twith torch.no_grad():\n",
    "\t\t# set the model in evaluation mode\n",
    "\t\tmodel.eval()\n",
    "\t\t# loop over the validation set\n",
    "\t\tfor (x, y) in valDataLoader:\n",
    "\t\t\t# send the input to the device\n",
    "\t\t\t(x, y) = (x.to(device), y.to(device))\n",
    "\t\t\t# make the predictions and calculate the validation loss\n",
    "\t\t\tpred = model(x)\n",
    "\t\t\ttotalValLoss += lossFn(pred, y)\n",
    "\t\t\t# calculate the number of correct predictions\n",
    "\t\t\tvalCorrect += (pred.argmax(1) == y).type(\n",
    "\t\t\t\ttorch.float).sum().item()\n",
    "    # calculate the average training and validation loss\n",
    "\tavgTrainLoss = totalTrainLoss / trainSteps\n",
    "\tavgValLoss = totalValLoss / valSteps\n",
    "\t# calculate the training and validation accuracy\n",
    "\ttrainCorrect = trainCorrect / len(trainDataLoader.dataset)\n",
    "\tvalCorrect = valCorrect / len(valDataLoader.dataset)\n",
    "\t# update our training history\n",
    "\tH[\"train_loss\"].append(avgTrainLoss.cpu().detach().numpy())\n",
    "\tH[\"train_acc\"].append(trainCorrect)\n",
    "\tH[\"val_loss\"].append(avgValLoss.cpu().detach().numpy())\n",
    "\tH[\"val_acc\"].append(valCorrect)\n",
    "\t# print the model training and validation information\n",
    "\tprint(\"[INFO] EPOCH: {}/{}\".format(e + 1, EPOCHS))\n",
    "\tprint(\"Train loss: {:.6f}, Train accuracy: {:.4f}\".format(\n",
    "\t\tavgTrainLoss, trainCorrect))\n",
    "\tprint(\"Val loss: {:.6f}, Val accuracy: {:.4f}\\n\".format(\n",
    "\t\tavgValLoss, valCorrect))"
   ]
  },
  {
   "cell_type": "markdown",
   "metadata": {
    "id": "o_yk1mle6iyb"
   },
   "source": [
    "6. Evaluation summary of the model's performance on the test set after training:\n",
    "\n",
    "\n",
    "\n",
    "\n"
   ]
  },
  {
   "cell_type": "markdown",
   "metadata": {
    "id": "HWno32Nh6l9u"
   },
   "source": [
    "* **endTime, startTime**: records the current time (endTime) and calculates the total training time by subtracting the start time (startTime).\n",
    "\n",
    "* **torch.no_grad()**: Temporarily disable gradient computation.\n",
    "\n",
    "* **model.eval()**: It then iterates over the test set using the test DataLoader and makes predictions. Predictions are stored in the preds list.\n",
    "\n",
    "* **classification_report**: compares the true labels (testData.targets.cpu().numpy()) with the predicted labels (np.array(preds)) and prints metrics such as precision, recall, and F1-score for each class. The **target_names** parameter specifies the class names for better readability in the report."
   ]
  },
  {
   "cell_type": "code",
   "execution_count": null,
   "metadata": {
    "colab": {
     "base_uri": "https://localhost:8080/"
    },
    "id": "k5mGRBZMbDKM",
    "outputId": "24f0e826-bb0c-410f-f53b-04e13c7be7a3"
   },
   "outputs": [
    {
     "name": "stdout",
     "output_type": "stream",
     "text": [
      "[INFO] total time taken to train the model: 102.29s\n",
      "[INFO] evaluating network...\n",
      "              precision    recall  f1-score   support\n",
      "\n",
      "           o       0.95      0.96      0.96      1000\n",
      "          ki       0.95      0.95      0.95      1000\n",
      "          su       0.93      0.91      0.92      1000\n",
      "         tsu       0.94      0.98      0.96      1000\n",
      "          na       0.98      0.90      0.94      1000\n",
      "          ha       0.97      0.93      0.95      1000\n",
      "          ma       0.90      0.98      0.94      1000\n",
      "          ya       0.96      0.95      0.95      1000\n",
      "          re       0.97      0.97      0.97      1000\n",
      "          wo       0.94      0.97      0.96      1000\n",
      "\n",
      "    accuracy                           0.95     10000\n",
      "   macro avg       0.95      0.95      0.95     10000\n",
      "weighted avg       0.95      0.95      0.95     10000\n",
      "\n"
     ]
    }
   ],
   "source": [
    "# finish measuring how long training took\n",
    "endTime = time.time()\n",
    "print(\"[INFO] total time taken to train the model: {:.2f}s\".format(\n",
    "\tendTime - startTime))\n",
    "# we can now evaluate the network on the test set\n",
    "print(\"[INFO] evaluating network...\")\n",
    "# turn off autograd for testing evaluation\n",
    "with torch.no_grad():\n",
    "\t# set the model in evaluation mode\n",
    "\tmodel.eval()\n",
    "\n",
    "\t# initialize a list to store our predictions\n",
    "\tpreds = []\n",
    "\t# loop over the test set\n",
    "\tfor (x, y) in testDataLoader:\n",
    "\t\t# send the input to the device\n",
    "\t\tx = x.to(device)\n",
    "\t\t# make the predictions and add them to the list\n",
    "\t\tpred = model(x)\n",
    "\t\tpreds.extend(pred.argmax(axis=1).cpu().numpy())\n",
    "# generate a classification report\n",
    "print(classification_report(testData.targets.cpu().numpy(),\n",
    "\tnp.array(preds), target_names=testData.classes))"
   ]
  },
  {
   "cell_type": "markdown",
   "metadata": {
    "id": "I6e85FEu_yVh"
   },
   "source": [
    "**Repport**:\n",
    "* Training time: 102.29s on T4 GPU,\n",
    "* Training accuracy: 99.75%,\n",
    "* validation accuracy: 98,09%,\n",
    "* Test accuracy: 95%\n",
    "\n",
    "The next figure above shows that, the training history plot is smooth.\n",
    "\n",
    "* Train loss: 0.007323,\n",
    "* Val loss: 0.081470,\n",
    "\n",
    "We can deduce that the model is little overfitting"
   ]
  },
  {
   "cell_type": "markdown",
   "metadata": {
    "id": "6u0Xr6CY-yrf"
   },
   "source": [
    "7.  Visualizes the training and validation performance over epochs, providing insights into the model's learning process."
   ]
  },
  {
   "cell_type": "markdown",
   "metadata": {
    "id": "bQ36anhA2GM0"
   },
   "source": [
    "Path to save the image and the model in my drive"
   ]
  },
  {
   "cell_type": "code",
   "execution_count": null,
   "metadata": {
    "id": "RwSa_2wi2Bh_"
   },
   "outputs": [],
   "source": [
    "args = {\n",
    "    \"model\": \"/content/Classifier_model.pth\",\n",
    "    \"plot\": \"/content//plot.png\"\n",
    "}\n"
   ]
  },
  {
   "cell_type": "code",
   "execution_count": null,
   "metadata": {
    "id": "6k3Y3TXWbLWd"
   },
   "outputs": [],
   "source": [
    "# plot the training loss and accuracy\n",
    "plt.style.use(\"ggplot\")\n",
    "plt.figure()\n",
    "plt.plot(H[\"train_loss\"], label=\"train_loss\")\n",
    "plt.plot(H[\"val_loss\"], label=\"val_loss\")\n",
    "plt.plot(H[\"train_acc\"], label=\"train_acc\")\n",
    "plt.plot(H[\"val_acc\"], label=\"val_acc\")\n",
    "plt.title(\"Training Loss and Accuracy on Dataset\")\n",
    "plt.xlabel(\"Epoch #\")\n",
    "plt.ylabel(\"Loss/Accuracy\")\n",
    "plt.legend(loc=\"lower left\")\n",
    "plt.savefig(args[\"plot\"])\n",
    "plt.savefig('plot')\n",
    "\n",
    "torch.save(model, args[\"model\"])"
   ]
  },
  {
   "cell_type": "code",
   "execution_count": null,
   "metadata": {
    "colab": {
     "base_uri": "https://localhost:8080/",
     "height": 497
    },
    "id": "KokdIxsWwT67",
    "outputId": "3b67ff64-7821-4753-98c6-65e794a6102a"
   },
   "outputs": [
    {
     "data": {
      "image/png": "[encoded data removed]",
      "text/plain": [
       "<IPython.core.display.Image object>"
      ]
     },
     "metadata": {},
     "output_type": "display_data"
    }
   ],
   "source": [
    "from IPython.display import Image, display\n",
    "\n",
    "image_path = \"/content/plot.png\"\n",
    "\n",
    "# Display the image\n",
    "display(Image(filename=image_path))"
   ]
  },
  {
   "cell_type": "markdown",
   "metadata": {
    "id": "Kq4wWEV8vESp"
   },
   "source": [
    "Our training history plot is smooth, demonstrating there is little overfitting happening."
   ]
  },
  {
   "cell_type": "markdown",
   "metadata": {
    "id": "Y3ewoah7u_e4"
   },
   "source": [
    "### **Implementing our PyTorch prediction script**"
   ]
  },
  {
   "cell_type": "markdown",
   "metadata": {
    "id": "tg8SzX8pDQTE"
   },
   "source": [
    "1. Import necessary packages for data handling, image processing, and deep learning."
   ]
  },
  {
   "cell_type": "markdown",
   "metadata": {
    "id": "DeqsutZEv4i-"
   },
   "source": [
    "* **DataLoader**: Imports the DataLoader class from PyTorch, which is used for loading datasets in batches.\n",
    "\n",
    "* **Subset**: Used to create a subset of a dataset.\n",
    "\n",
    "* **ToTensor**: Converts images to PyTorch tensors.\n",
    "\n",
    "* **imutils**: Provides convenience functions for OpenCV and image processing tasks.\n",
    "\n",
    "* **cv2**: OpenCV library for computer vision tasks, particularly image and video processing."
   ]
  },
  {
   "cell_type": "code",
   "execution_count": null,
   "metadata": {
    "id": "ngB0a04ymEnm"
   },
   "outputs": [],
   "source": [
    "# set the numpy seed for better reproducibility\n",
    "import numpy as np\n",
    "np.random.seed(42)\n",
    "# import the necessary packages\n",
    "from torch.utils.data import DataLoader\n",
    "from torch.utils.data import Subset\n",
    "from torchvision.transforms import ToTensor\n",
    "from torchvision.datasets import KMNIST\n",
    "# import argparse\n",
    "import imutils\n",
    "import torch\n",
    "import cv2\n",
    "# instead to use cv2.imshow to display images,\n",
    "# we are using cv2_imshow from colab\n",
    "\n",
    "from google.colab.patches import cv2_imshow # function is used to display\n",
    "#images in a Colab environment."
   ]
  },
  {
   "cell_type": "code",
   "execution_count": null,
   "metadata": {
    "colab": {
     "base_uri": "https://localhost:8080/"
    },
    "id": "cBUbmBHhmMNB",
    "outputId": "93f07d71-3009-4a05-ebac-57eff2530fd8"
   },
   "outputs": [
    {
     "name": "stdout",
     "output_type": "stream",
     "text": [
      "[INFO] loading the KMNIST test dataset...\n"
     ]
    },
    {
     "data": {
      "text/plain": [
       "LeNet(\n",
       "  (conv1): Conv2d(1, 20, kernel_size=(5, 5), stride=(1, 1))\n",
       "  (relu1): ReLU()\n",
       "  (maxpool1): MaxPool2d(kernel_size=(2, 2), stride=(2, 2), padding=0, dilation=1, ceil_mode=False)\n",
       "  (conv2): Conv2d(20, 50, kernel_size=(5, 5), stride=(1, 1))\n",
       "  (relu2): ReLU()\n",
       "  (maxpool2): MaxPool2d(kernel_size=(2, 2), stride=(2, 2), padding=0, dilation=1, ceil_mode=False)\n",
       "  (fc1): Linear(in_features=800, out_features=500, bias=True)\n",
       "  (relu3): ReLU()\n",
       "  (fc2): Linear(in_features=500, out_features=10, bias=True)\n",
       "  (logSoftmax): LogSoftmax(dim=1)\n",
       ")"
      ]
     },
     "execution_count": 24,
     "metadata": {},
     "output_type": "execute_result"
    }
   ],
   "source": [
    "# set the device we will be using to test the model\n",
    "device = torch.device(\"cuda\" if torch.cuda.is_available() else \"cpu\")\n",
    "\n",
    "# load the KMNIST dataset and randomly grab 10 data points\n",
    "print(\"[INFO] loading the KMNIST test dataset...\")\n",
    "testData = KMNIST(root=\"data\", train=False, download=True,\n",
    "\ttransform=ToTensor())\n",
    "idxs = np.random.choice(range(0, len(testData)), size=(10,))\n",
    "testData = Subset(testData, idxs)\n",
    "\n",
    "# initialize the test data loader\n",
    "testDataLoader = DataLoader(testData, batch_size=1)\n",
    "\n",
    "# load the model and set it to evaluation mode\n",
    "model = torch.load(args[\"model\"]).to(device)\n",
    "model.eval()"
   ]
  },
  {
   "cell_type": "markdown",
   "metadata": {
    "id": "wCSbkdNE2nSq"
   },
   "source": [
    "### **Making predictions with our trained PyTorch model**"
   ]
  },
  {
   "cell_type": "code",
   "execution_count": null,
   "metadata": {
    "colab": {
     "base_uri": "https://localhost:8080/",
     "height": 1000
    },
    "id": "hPiCOLM4mRSS",
    "outputId": "1284b09c-5d52-4c45-d34f-b182a08284dc"
   },
   "outputs": [
    {
     "name": "stdout",
     "output_type": "stream",
     "text": [
      "[INFO] ground truth label: ki, predicted label: ki\n"
     ]
    },
    {
     "data": {
      "image/png": "[encoded data removed]",
      "text/plain": [
       "<PIL.Image.Image image mode=RGB size=128x128>"
      ]
     },
     "metadata": {},
     "output_type": "display_data"
    },
    {
     "name": "stdout",
     "output_type": "stream",
     "text": [
      "[INFO] ground truth label: ki, predicted label: ki\n"
     ]
    },
    {
     "data": {
      "image/png": "[encoded data removed]",
      "text/plain": [
       "<PIL.Image.Image image mode=RGB size=128x128>"
      ]
     },
     "metadata": {},
     "output_type": "display_data"
    },
    {
     "name": "stdout",
     "output_type": "stream",
     "text": [
      "[INFO] ground truth label: ki, predicted label: ki\n"
     ]
    },
    {
     "data": {
      "image/png": "[encoded data removed]",
      "text/plain": [
       "<PIL.Image.Image image mode=RGB size=128x128>"
      ]
     },
     "metadata": {},
     "output_type": "display_data"
    },
    {
     "name": "stdout",
     "output_type": "stream",
     "text": [
      "[INFO] ground truth label: ha, predicted label: ha\n"
     ]
    },
    {
     "data": {
      "image/png": "[encoded data removed]",
      "text/plain": [
       "<PIL.Image.Image image mode=RGB size=128x128>"
      ]
     },
     "metadata": {},
     "output_type": "display_data"
    },
    {
     "name": "stdout",
     "output_type": "stream",
     "text": [
      "[INFO] ground truth label: tsu, predicted label: tsu\n"
     ]
    },
    {
     "data": {
      "image/png": "[encoded data removed]",
      "text/plain": [
       "<PIL.Image.Image image mode=RGB size=128x128>"
      ]
     },
     "metadata": {},
     "output_type": "display_data"
    },
    {
     "name": "stdout",
     "output_type": "stream",
     "text": [
      "[INFO] ground truth label: ya, predicted label: ya\n"
     ]
    },
    {
     "data": {
      "image/png": "[encoded data removed]",
      "text/plain": [
       "<PIL.Image.Image image mode=RGB size=128x128>"
      ]
     },
     "metadata": {},
     "output_type": "display_data"
    },
    {
     "name": "stdout",
     "output_type": "stream",
     "text": [
      "[INFO] ground truth label: tsu, predicted label: tsu\n"
     ]
    },
    {
     "data": {
      "image/png": "[encoded data removed]",
      "text/plain": [
       "<PIL.Image.Image image mode=RGB size=128x128>"
      ]
     },
     "metadata": {},
     "output_type": "display_data"
    },
    {
     "name": "stdout",
     "output_type": "stream",
     "text": [
      "[INFO] ground truth label: na, predicted label: na\n"
     ]
    },
    {
     "data": {
      "image/png": "[encoded data removed]",
      "text/plain": [
       "<PIL.Image.Image image mode=RGB size=128x128>"
      ]
     },
     "metadata": {},
     "output_type": "display_data"
    },
    {
     "name": "stdout",
     "output_type": "stream",
     "text": [
      "[INFO] ground truth label: ki, predicted label: ki\n"
     ]
    },
    {
     "data": {
      "image/png": "[encoded data removed]",
      "text/plain": [
       "<PIL.Image.Image image mode=RGB size=128x128>"
      ]
     },
     "metadata": {},
     "output_type": "display_data"
    },
    {
     "name": "stdout",
     "output_type": "stream",
     "text": [
      "[INFO] ground truth label: tsu, predicted label: tsu\n"
     ]
    },
    {
     "data": {
      "image/png": "[encoded data removed]",
      "text/plain": [
       "<PIL.Image.Image image mode=RGB size=128x128>"
      ]
     },
     "metadata": {},
     "output_type": "display_data"
    }
   ],
   "source": [
    "# switch off autograd\n",
    "with torch.no_grad():\n",
    "\t# loop over the test set\n",
    "  for (image, label) in testDataLoader:\n",
    "    #grab the original image and ground truth label\n",
    "    origImage = image.numpy().squeeze(axis=(0, 1))\n",
    "    gtLabel = testData.dataset.classes[label.numpy()[0]]\n",
    "    # send the input to the device and make predictions on it\n",
    "    image = image.to(device)\n",
    "    pred = model(image)\n",
    "    # find the class label index with the largest corresponding\n",
    "    # probability\n",
    "    idx = pred.argmax(axis=1).cpu().numpy()[0]\n",
    "    predLabel = testData.dataset.classes[idx]\n",
    "\n",
    "    # convert the image from grayscale to RGB (so we can draw on\n",
    "    # it) and resize it (so we can more easily see it on our\n",
    "    # screen)\n",
    "    origImage = np.dstack([origImage] * 3)\n",
    "    origImage = imutils.resize(origImage, width=128)\n",
    "    # draw the predicted class label on it\n",
    "    color = (0, 255, 0) if gtLabel == predLabel else (0, 0, 255)\n",
    "    cv2.putText(origImage, gtLabel, (2, 25),\n",
    "    cv2.FONT_HERSHEY_SIMPLEX, 0.95, color, 2)\n",
    "    # display the result in terminal and show the input image\n",
    "    print(\"[INFO] ground truth label: {}, predicted label: {}\".format(\n",
    "    gtLabel, predLabel))\n",
    "    scaled_image = (origImage * 255).astype(np.uintp)\n",
    "    cv2_imshow(scaled_image)\n",
    "    # cv2_imshow(origImage)\n",
    "    cv2.waitKey(0)\n"
   ]
  }
 ],
 "metadata": {
  "accelerator": "GPU",
  "colab": {
   "gpuType": "T4",
   "include_colab_link": true,
   "provenance": []
  },
  "kernelspec": {
   "display_name": "Python 3 (ipykernel)",
   "language": "python",
   "name": "python3"
  },
  "language_info": {
   "codemirror_mode": {
    "name": "ipython",
    "version": 3
   },
   "file_extension": ".py",
   "mimetype": "text/x-python",
   "name": "python",
   "nbconvert_exporter": "python",
   "pygments_lexer": "ipython3",
   "version": "3.9.2"
  }
 },
 "nbformat": 4,
 "nbformat_minor": 1
}
